{
  "nbformat": 4,
  "nbformat_minor": 0,
  "metadata": {
    "colab": {
      "provenance": [],
      "gpuType": "T4"
    },
    "kernelspec": {
      "name": "python3",
      "display_name": "Python 3"
    },
    "language_info": {
      "name": "python"
    },
    "accelerator": "GPU"
  },
  "cells": [
    {
      "cell_type": "code",
      "execution_count": 2,
      "metadata": {
        "colab": {
          "base_uri": "https://localhost:8080/",
          "height": 1000
        },
        "id": "ew7Ihoszpq2e",
        "outputId": "8b8eaf71-2183-45df-b440-109a60656725"
      },
      "outputs": [
        {
          "output_type": "stream",
          "name": "stdout",
          "text": [
            "Generated Tensor: [[0.8943261  0.14098024 0.24321222 0.17518091 0.2584554  0.5390432 ]\n",
            " [0.5302017  0.13137746 0.41470027 0.095137   0.4670372  0.32314157]\n",
            " [0.71043706 0.5479231  0.48538947 0.27065825 0.46871734 0.76249564]\n",
            " [0.01831448 0.75219023 0.72464204 0.6159177  0.38425064 0.38137376]]\n",
            "Rank: 2, Shape: (4, 6)\n",
            "Reshaped Tensor: [[[0.8943261  0.14098024 0.24321222 0.17518091]\n",
            "  [0.2584554  0.5390432  0.5302017  0.13137746]\n",
            "  [0.41470027 0.095137   0.4670372  0.32314157]]\n",
            "\n",
            " [[0.71043706 0.5479231  0.48538947 0.27065825]\n",
            "  [0.46871734 0.76249564 0.01831448 0.75219023]\n",
            "  [0.72464204 0.6159177  0.38425064 0.38137376]]]\n",
            "Transposed Tensor: [[[0.8943261  0.14098024 0.24321222 0.17518091]\n",
            "  [0.71043706 0.5479231  0.48538947 0.27065825]]\n",
            "\n",
            " [[0.2584554  0.5390432  0.5302017  0.13137746]\n",
            "  [0.46871734 0.76249564 0.01831448 0.75219023]]\n",
            "\n",
            " [[0.41470027 0.095137   0.4670372  0.32314157]\n",
            "  [0.72464204 0.6159177  0.38425064 0.38137376]]]\n",
            "Broadcasted Tensor: [[0.90233195 0.8915452  0.85098064 0.14606512]\n",
            " [0.90233195 0.8915452  0.85098064 0.14606512]\n",
            " [0.90233195 0.8915452  0.85098064 0.14606512]\n",
            " [0.90233195 0.8915452  0.85098064 0.14606512]]\n",
            "Summed Tensor: [[1.796658   1.0325254  1.0941929  0.32124603]\n",
            " [1.4325336  1.0229226  1.2656809  0.24120212]\n",
            " [1.612769   1.4394683  1.3363701  0.41672337]\n",
            " [0.9206464  1.6437354  1.5756227  0.7619828 ]]\n",
            "Broadcasting enables a smaller tensor to be extended to fit a larger tensor's shape for element-wise operations.\n",
            "MSE Loss: 0.02500000037252903, CCE Loss: 1.7147984504699707\n",
            "Updated MSE Loss: 0.02500000223517418, Updated CCE Loss: 1.7147984504699707\n"
          ]
        },
        {
          "output_type": "display_data",
          "data": {
            "text/plain": [
              "<Figure size 640x480 with 1 Axes>"
            ],
            "image/png": "[encoded data removed]"
          },
          "metadata": {}
        },
        {
          "output_type": "stream",
          "name": "stdout",
          "text": [
            "Downloading data from https://storage.googleapis.com/tensorflow/tf-keras-datasets/mnist.npz\n",
            "\u001b[1m11490434/11490434\u001b[0m \u001b[32m━━━━━━━━━━━━━━━━━━━━\u001b[0m\u001b[37m\u001b[0m \u001b[1m0s\u001b[0m 0us/step\n"
          ]
        },
        {
          "output_type": "stream",
          "name": "stderr",
          "text": [
            "/usr/local/lib/python3.11/dist-packages/keras/src/layers/reshaping/flatten.py:37: UserWarning: Do not pass an `input_shape`/`input_dim` argument to a layer. When using Sequential models, prefer using an `Input(shape)` object as the first layer in the model instead.\n",
            "  super().__init__(**kwargs)\n"
          ]
        },
        {
          "output_type": "stream",
          "name": "stdout",
          "text": [
            "Epoch 1/5\n",
            "\u001b[1m1875/1875\u001b[0m \u001b[32m━━━━━━━━━━━━━━━━━━━━\u001b[0m\u001b[37m\u001b[0m \u001b[1m12s\u001b[0m 5ms/step - accuracy: 0.8776 - loss: 0.4313 - val_accuracy: 0.9564 - val_loss: 0.1431\n",
            "Epoch 2/5\n",
            "\u001b[1m1875/1875\u001b[0m \u001b[32m━━━━━━━━━━━━━━━━━━━━\u001b[0m\u001b[37m\u001b[0m \u001b[1m20s\u001b[0m 6ms/step - accuracy: 0.9634 - loss: 0.1234 - val_accuracy: 0.9678 - val_loss: 0.1024\n",
            "Epoch 3/5\n",
            "\u001b[1m1875/1875\u001b[0m \u001b[32m━━━━━━━━━━━━━━━━━━━━\u001b[0m\u001b[37m\u001b[0m \u001b[1m20s\u001b[0m 5ms/step - accuracy: 0.9773 - loss: 0.0755 - val_accuracy: 0.9708 - val_loss: 0.0927\n",
            "Epoch 4/5\n",
            "\u001b[1m1875/1875\u001b[0m \u001b[32m━━━━━━━━━━━━━━━━━━━━\u001b[0m\u001b[37m\u001b[0m \u001b[1m10s\u001b[0m 5ms/step - accuracy: 0.9835 - loss: 0.0557 - val_accuracy: 0.9758 - val_loss: 0.0765\n",
            "Epoch 5/5\n",
            "\u001b[1m1875/1875\u001b[0m \u001b[32m━━━━━━━━━━━━━━━━━━━━\u001b[0m\u001b[37m\u001b[0m \u001b[1m21s\u001b[0m 6ms/step - accuracy: 0.9874 - loss: 0.0431 - val_accuracy: 0.9763 - val_loss: 0.0736\n",
            "To launch TensorBoard, use: tensorboard --logdir logs/fit/\n",
            "1. Observing accuracy curves: Adam converges quicker, whereas SGD takes longer but may generalize better.\n",
            "2. Detecting overfitting using TensorBoard: A widening gap between training and validation accuracy signals overfitting.\n",
            "3. Effect of increased epochs: More training can enhance accuracy initially but might lead to overfitting.\n"
          ]
        }
      ],
      "source": [
        "import tensorflow as tf\n",
        "import numpy as np\n",
        "import matplotlib.pyplot as plt\n",
        "from tensorflow.keras.losses import MeanSquaredError, CategoricalCrossentropy\n",
        "from tensorflow.keras.optimizers import Adam, SGD\n",
        "from tensorflow.keras.datasets import mnist\n",
        "from tensorflow.keras.models import Sequential\n",
        "from tensorflow.keras.layers import Dense, Flatten\n",
        "import os\n",
        "\n",
        "# Task 1: Tensor Transformations & Reshaping\n",
        "# Step 1: Generate a tensor with dimensions (4, 6)\n",
        "tensor_data = tf.random.uniform((4, 6))\n",
        "print(\"Generated Tensor:\", tensor_data.numpy())\n",
        "\n",
        "# Step 2: Determine tensor rank and shape\n",
        "tensor_rank = tf.rank(tensor_data).numpy()\n",
        "tensor_shape = tensor_data.shape\n",
        "print(f\"Rank: {tensor_rank}, Shape: {tensor_shape}\")\n",
        "\n",
        "# Step 3: Modify shape and transpose\n",
        "reshaped_data = tf.reshape(tensor_data, (2, 3, 4))\n",
        "transposed_data = tf.transpose(reshaped_data, perm=[1, 0, 2])\n",
        "print(\"Reshaped Tensor:\", reshaped_data.numpy())\n",
        "print(\"Transposed Tensor:\", transposed_data.numpy())\n",
        "\n",
        "# Step 4: Broadcasting & Summation\n",
        "small_data = tf.random.uniform((1, 4))\n",
        "broadcasted_data = tf.broadcast_to(small_data, (4, 4))\n",
        "result_data = tensor_data[:, :4] + broadcasted_data\n",
        "print(\"Broadcasted Tensor:\", broadcasted_data.numpy())\n",
        "print(\"Summed Tensor:\", result_data.numpy())\n",
        "\n",
        "# Explanation of Broadcasting Concept\n",
        "print(\"Broadcasting enables a smaller tensor to be extended to fit a larger tensor's shape for element-wise operations.\")\n",
        "\n",
        "\n",
        "\n",
        "# Task 2: Compute and Compare Loss Functions\n",
        "y_actual = tf.constant([0.0, 1.0, 1.0, 0.0])\n",
        "y_predicted = tf.constant([0.2, 0.9, 0.8, 0.1])\n",
        "\n",
        "mse_loss_fn = MeanSquaredError()\n",
        "cce_loss_fn = CategoricalCrossentropy()\n",
        "\n",
        "mse_result = mse_loss_fn(y_actual, y_predicted).numpy()\n",
        "cce_result = cce_loss_fn(tf.expand_dims(y_actual, axis=0), tf.expand_dims(y_predicted, axis=0)).numpy()\n",
        "print(f\"MSE Loss: {mse_result}, CCE Loss: {cce_result}\")\n",
        "\n",
        "# Alter predictions and compute loss again\n",
        "y_predicted_updated = tf.constant([0.1, 0.8, 0.9, 0.2])\n",
        "mse_updated = mse_loss_fn(y_actual, y_predicted_updated).numpy()\n",
        "cce_updated = cce_loss_fn(tf.expand_dims(y_actual, axis=0), tf.expand_dims(y_predicted_updated, axis=0)).numpy()\n",
        "print(f\"Updated MSE Loss: {mse_updated}, Updated CCE Loss: {cce_updated}\")\n",
        "\n",
        "# Visualize Loss Functions\n",
        "plt.bar([\"MSE\", \"CCE\"], [mse_result, cce_result], color=['blue', 'red'])\n",
        "plt.xlabel(\"Loss Type\")\n",
        "plt.ylabel(\"Loss Value\")\n",
        "plt.title(\"MSE vs Cross-Entropy Loss Comparison\")\n",
        "plt.show()\n",
        "\n",
        "# Task 3: Neural Network Training with TensorBoard\n",
        "\n",
        "# Define the build_model function\n",
        "def build_model():\n",
        "    model = Sequential([\n",
        "        Flatten(input_shape=(28, 28)), # Assuming MNIST image size 28x28\n",
        "        Dense(128, activation='relu'),\n",
        "        Dense(10, activation='softmax') # Assuming 10 classes for output\n",
        "    ])\n",
        "    return model\n",
        "\n",
        "log_directory = \"logs/fit/\"\n",
        "os.makedirs(log_directory, exist_ok=True)\n",
        "\n",
        "# Load MNIST data (Assuming this is intended for training)\n",
        "(train_images, train_labels), (test_images, test_labels) = mnist.load_data()\n",
        "\n",
        "# Normalize the pixel values\n",
        "train_images = train_images / 255.0\n",
        "test_images = test_images / 255.0\n",
        "\n",
        "\n",
        "model_tb = build_model()\n",
        "model_tb.compile(optimizer=Adam(), loss='sparse_categorical_crossentropy', metrics=['accuracy'])\n",
        "tb_callback = tf.keras.callbacks.TensorBoard(log_dir=log_directory, histogram_freq=1)\n",
        "model_tb.fit(train_images, train_labels, epochs=5, validation_data=(test_images, test_labels), callbacks=[tb_callback])\n",
        "\n",
        "# Launch TensorBoard\n",
        "print(\"To launch TensorBoard, use: tensorboard --logdir logs/fit/\")\n",
        "\n",
        "# Answering Key Questions\n",
        "print(\"1. Observing accuracy curves: Adam converges quicker, whereas SGD takes longer but may generalize better.\")\n",
        "print(\"2. Detecting overfitting using TensorBoard: A widening gap between training and validation accuracy signals overfitting.\")\n",
        "print(\"3. Effect of increased epochs: More training can enhance accuracy initially but might lead to overfitting.\")"
      ]
    }
  ]
}